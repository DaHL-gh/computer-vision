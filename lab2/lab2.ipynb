{
 "cells": [
  {
   "cell_type": "code",
   "execution_count": 1,
   "id": "e0c390c2-9ffb-4270-9360-dd75d5c4ee3e",
   "metadata": {},
   "outputs": [
    {
     "data": {
      "text/plain": [
       "'cuda'"
      ]
     },
     "execution_count": 1,
     "metadata": {},
     "output_type": "execute_result"
    }
   ],
   "source": [
    "import os\n",
    "from typing import final\n",
    "from pathlib import Path\n",
    "from PIL import Image\n",
    "import pandas as pd\n",
    "\n",
    "import torchvision\n",
    "from torchvision import transforms\n",
    "\n",
    "import timm\n",
    "import torch\n",
    "from torch import nn\n",
    "from torch.utils.data import Dataset, DataLoader, random_split\n",
    "\n",
    "device = \"cuda\" if torch.cuda.is_available() else \"cpu\"\n",
    "\n",
    "device"
   ]
  },
  {
   "cell_type": "markdown",
   "id": "86761304-b898-447c-be95-ef2e35c20a91",
   "metadata": {},
   "source": [
    "# Создаем датасеты"
   ]
  },
  {
   "cell_type": "code",
   "execution_count": 2,
   "id": "6cdc4106-564d-41e8-a3da-05f323fdd70f",
   "metadata": {},
   "outputs": [],
   "source": [
    "@final\n",
    "class CustomDataset(Dataset):\n",
    "    def __init__(self, class_to_label_csv: Path, images_dir: Path, has_labels=True, transform=None):\n",
    "        self.class_to_label = pd.read_csv(class_to_label_csv)\n",
    "        self.images_dir = images_dir\n",
    "        self.images = [file_name for file_name in os.listdir(images_dir)]\n",
    "        self.transform = transform if transform else transforms.ToTensor()\n",
    "        self.has_labels = has_labels\n",
    "\n",
    "        self.classes = sorted(self.class_to_label.iloc[:, 0].unique())\n",
    "        self.class_to_idx = {row[\"name\"]: row[\"label\"] for idx, row in self.class_to_label.iterrows()}\n",
    "\n",
    "    def __len__(self):\n",
    "        return len(self.images)\n",
    "\n",
    "    def __getitem__(self, idx):\n",
    "        file_name = self.images[idx]\n",
    "        img_path = os.path.join(self.images_dir, file_name)\n",
    "        image = Image.open(img_path).convert(\"RGB\")\n",
    "        image = self.transform(image)\n",
    "\n",
    "        if self.has_labels:\n",
    "            cls = file_name.split(\"_\")[0]\n",
    "            label = self.class_to_idx[cls]\n",
    "            return image, label\n",
    "        else:\n",
    "            return image, file_name"
   ]
  },
  {
   "cell_type": "code",
   "execution_count": 3,
   "id": "1a74addc-9d74-4d18-b29f-1ecda868e845",
   "metadata": {},
   "outputs": [],
   "source": [
    "BATCH_SIZE = 32\n",
    "\n",
    "full_train = CustomDataset(\n",
    "    class_to_label_csv=Path(\"./animal/class_names.csv\"), \n",
    "    images_dir=Path(\"./animal/train/\"), \n",
    "    has_labels=True\n",
    ")\n",
    "\n",
    "train_size = int(0.8 * len(full_train))\n",
    "val_size = len(full_train) - train_size\n",
    "\n",
    "train_dataset, val_dataset = random_split(full_train, [train_size, val_size])\n",
    "\n",
    "train_dataloader = DataLoader(train_dataset, BATCH_SIZE, shuffle=True)\n",
    "val_dataloader = DataLoader(val_dataset, BATCH_SIZE, shuffle=False)\n",
    "\n",
    "test = CustomDataset(\n",
    "    class_to_label_csv=Path(\"./animal/class_names.csv\"), \n",
    "    images_dir=Path(\"./animal/test_new/\"), \n",
    "    has_labels=False\n",
    ")\n",
    "\n",
    "test_dataloader = DataLoader(test, BATCH_SIZE, shuffle=False)"
   ]
  },
  {
   "cell_type": "markdown",
   "id": "8a4aef67-36d9-436f-9225-488a03500d5b",
   "metadata": {},
   "source": [
    "# Грузим предобученную модель"
   ]
  },
  {
   "cell_type": "code",
   "execution_count": 4,
   "id": "3f5d844c-433f-4144-99fa-eda03e7da04b",
   "metadata": {},
   "outputs": [],
   "source": [
    "model = timm.create_model(\n",
    "    \"convnext_large.fb_in22k_ft_in1k\",\n",
    "    pretrained=True,\n",
    "    num_classes=14\n",
    ")"
   ]
  },
  {
   "cell_type": "code",
   "execution_count": 5,
   "id": "4a6025c6-2f05-4faf-863a-df50269f3cb0",
   "metadata": {},
   "outputs": [
    {
     "data": {
      "text/plain": [
       "===========================================================================\n",
       "Layer (type:depth-idx)                             Param #\n",
       "===========================================================================\n",
       "ConvNeXt                                           --\n",
       "├─Sequential: 1-1                                  --\n",
       "│    └─Conv2d: 2-1                                 9,408\n",
       "│    └─LayerNorm2d: 2-2                            384\n",
       "├─Sequential: 1-2                                  --\n",
       "│    └─ConvNeXtStage: 2-3                          --\n",
       "│    │    └─Identity: 3-1                          --\n",
       "│    │    └─Sequential: 3-2                        918,144\n",
       "│    └─ConvNeXtStage: 2-4                          --\n",
       "│    │    └─Sequential: 3-3                        295,680\n",
       "│    │    └─Sequential: 3-4                        3,605,760\n",
       "│    └─ConvNeXtStage: 2-5                          --\n",
       "│    │    └─Sequential: 3-5                        1,181,184\n",
       "│    │    └─Sequential: 3-6                        128,604,672\n",
       "│    └─ConvNeXtStage: 2-6                          --\n",
       "│    │    └─Sequential: 3-7                        4,721,664\n",
       "│    │    └─Sequential: 3-8                        56,890,368\n",
       "├─Identity: 1-3                                    --\n",
       "├─NormMlpClassifierHead: 1-4                       --\n",
       "│    └─SelectAdaptivePool2d: 2-7                   --\n",
       "│    │    └─AdaptiveAvgPool2d: 3-9                 --\n",
       "│    │    └─Identity: 3-10                         --\n",
       "│    └─LayerNorm2d: 2-8                            3,072\n",
       "│    └─Flatten: 2-9                                --\n",
       "│    └─Identity: 2-10                              --\n",
       "│    └─Dropout: 2-11                               --\n",
       "│    └─Linear: 2-12                                21,518\n",
       "===========================================================================\n",
       "Total params: 196,251,854\n",
       "Trainable params: 196,251,854\n",
       "Non-trainable params: 0\n",
       "==========================================================================="
      ]
     },
     "execution_count": 5,
     "metadata": {},
     "output_type": "execute_result"
    }
   ],
   "source": [
    "from torchinfo import summary\n",
    "\n",
    "summary(model)"
   ]
  },
  {
   "cell_type": "code",
   "execution_count": 47,
   "id": "4035b368-f8a6-4dde-af28-5bb636144ccd",
   "metadata": {},
   "outputs": [
    {
     "data": {
      "text/plain": [
       "Linear(in_features=1536, out_features=14, bias=True)"
      ]
     },
     "execution_count": 47,
     "metadata": {},
     "output_type": "execute_result"
    }
   ],
   "source": [
    "model.head.fc"
   ]
  },
  {
   "cell_type": "markdown",
   "id": "2a1462f0-152c-42d4-8a16-6164bcaaf8bf",
   "metadata": {},
   "source": [
    "# Треним"
   ]
  },
  {
   "cell_type": "code",
   "execution_count": 48,
   "id": "1c7f2901-c34a-4192-9d86-9124796bb7cb",
   "metadata": {},
   "outputs": [],
   "source": [
    "for param in model.parameters():\n",
    "    param.requires_grad = False\n",
    "\n",
    "for param in model.head.fc.parameters():\n",
    "    param.requires_grad = True"
   ]
  },
  {
   "cell_type": "code",
   "execution_count": 49,
   "id": "c1e74782-51d8-407d-b95e-957a37d2b9f0",
   "metadata": {},
   "outputs": [],
   "source": [
    "loss_fn = torch.nn.CrossEntropyLoss()\n",
    "\n",
    "optim = torch.optim.Adam(params=model.parameters(), lr=1e-3)\n",
    "\n",
    "epochs = 20"
   ]
  },
  {
   "cell_type": "code",
   "execution_count": 50,
   "id": "9b24b377-daec-4789-8bea-d311d138f63c",
   "metadata": {},
   "outputs": [
    {
     "data": {
      "application/vnd.jupyter.widget-view+json": {
       "model_id": "ec5067582a50495dad5de01578310252",
       "version_major": 2,
       "version_minor": 0
      },
      "text/plain": [
       "epochs:   0%|          | 0/20 [00:00<?, ?it/s]"
      ]
     },
     "metadata": {},
     "output_type": "display_data"
    },
    {
     "data": {
      "application/vnd.jupyter.widget-view+json": {
       "model_id": "9a1e93edadf746bfb9d84e93a452a9b9",
       "version_major": 2,
       "version_minor": 0
      },
      "text/plain": [
       "Train batches:   0%|          | 0/32 [00:00<?, ?it/s]"
      ]
     },
     "metadata": {},
     "output_type": "display_data"
    },
    {
     "data": {
      "application/vnd.jupyter.widget-view+json": {
       "model_id": "1aaa5dd4ce9f418ea9355b29a14a0cd9",
       "version_major": 2,
       "version_minor": 0
      },
      "text/plain": [
       "Test batches:   0%|          | 0/8 [00:00<?, ?it/s]"
      ]
     },
     "metadata": {},
     "output_type": "display_data"
    },
    {
     "data": {
      "application/vnd.jupyter.widget-view+json": {
       "model_id": "c71ebe66a1ee415e941d8e13b892d388",
       "version_major": 2,
       "version_minor": 0
      },
      "text/plain": [
       "Train batches:   0%|          | 0/32 [00:00<?, ?it/s]"
      ]
     },
     "metadata": {},
     "output_type": "display_data"
    },
    {
     "data": {
      "application/vnd.jupyter.widget-view+json": {
       "model_id": "005fdfe8cf894a2594f93b7e2fe8df1e",
       "version_major": 2,
       "version_minor": 0
      },
      "text/plain": [
       "Test batches:   0%|          | 0/8 [00:00<?, ?it/s]"
      ]
     },
     "metadata": {},
     "output_type": "display_data"
    },
    {
     "data": {
      "application/vnd.jupyter.widget-view+json": {
       "model_id": "e128d68087a84642a35872d0396528f1",
       "version_major": 2,
       "version_minor": 0
      },
      "text/plain": [
       "Train batches:   0%|          | 0/32 [00:00<?, ?it/s]"
      ]
     },
     "metadata": {},
     "output_type": "display_data"
    },
    {
     "data": {
      "application/vnd.jupyter.widget-view+json": {
       "model_id": "4baa363ffffa4804be356dea7f15cc6d",
       "version_major": 2,
       "version_minor": 0
      },
      "text/plain": [
       "Test batches:   0%|          | 0/8 [00:00<?, ?it/s]"
      ]
     },
     "metadata": {},
     "output_type": "display_data"
    },
    {
     "data": {
      "application/vnd.jupyter.widget-view+json": {
       "model_id": "94cfefa9ed564cc0a22fdcbb767f09ce",
       "version_major": 2,
       "version_minor": 0
      },
      "text/plain": [
       "Train batches:   0%|          | 0/32 [00:00<?, ?it/s]"
      ]
     },
     "metadata": {},
     "output_type": "display_data"
    },
    {
     "data": {
      "application/vnd.jupyter.widget-view+json": {
       "model_id": "5cfb6df4fe74456caa4ff0613301fcee",
       "version_major": 2,
       "version_minor": 0
      },
      "text/plain": [
       "Test batches:   0%|          | 0/8 [00:00<?, ?it/s]"
      ]
     },
     "metadata": {},
     "output_type": "display_data"
    },
    {
     "data": {
      "application/vnd.jupyter.widget-view+json": {
       "model_id": "2af0d6ae673742ad873598675f44e613",
       "version_major": 2,
       "version_minor": 0
      },
      "text/plain": [
       "Train batches:   0%|          | 0/32 [00:00<?, ?it/s]"
      ]
     },
     "metadata": {},
     "output_type": "display_data"
    },
    {
     "data": {
      "application/vnd.jupyter.widget-view+json": {
       "model_id": "71330cb94f5b4e1fa338c9ebadb17888",
       "version_major": 2,
       "version_minor": 0
      },
      "text/plain": [
       "Test batches:   0%|          | 0/8 [00:00<?, ?it/s]"
      ]
     },
     "metadata": {},
     "output_type": "display_data"
    },
    {
     "data": {
      "application/vnd.jupyter.widget-view+json": {
       "model_id": "e541e4e6ffa547b7a8eec26a310d9eaa",
       "version_major": 2,
       "version_minor": 0
      },
      "text/plain": [
       "Train batches:   0%|          | 0/32 [00:00<?, ?it/s]"
      ]
     },
     "metadata": {},
     "output_type": "display_data"
    },
    {
     "data": {
      "application/vnd.jupyter.widget-view+json": {
       "model_id": "d0d99b7681fd4a7a9751a69738784918",
       "version_major": 2,
       "version_minor": 0
      },
      "text/plain": [
       "Test batches:   0%|          | 0/8 [00:00<?, ?it/s]"
      ]
     },
     "metadata": {},
     "output_type": "display_data"
    },
    {
     "data": {
      "application/vnd.jupyter.widget-view+json": {
       "model_id": "2257210046a04a2fb1dc1fa7c7a77e30",
       "version_major": 2,
       "version_minor": 0
      },
      "text/plain": [
       "Train batches:   0%|          | 0/32 [00:00<?, ?it/s]"
      ]
     },
     "metadata": {},
     "output_type": "display_data"
    },
    {
     "data": {
      "application/vnd.jupyter.widget-view+json": {
       "model_id": "0171f5c95a584ee5a13e984416b2ee70",
       "version_major": 2,
       "version_minor": 0
      },
      "text/plain": [
       "Test batches:   0%|          | 0/8 [00:00<?, ?it/s]"
      ]
     },
     "metadata": {},
     "output_type": "display_data"
    },
    {
     "data": {
      "application/vnd.jupyter.widget-view+json": {
       "model_id": "84c4f09cd92a443fba0c599b41a142ce",
       "version_major": 2,
       "version_minor": 0
      },
      "text/plain": [
       "Train batches:   0%|          | 0/32 [00:00<?, ?it/s]"
      ]
     },
     "metadata": {},
     "output_type": "display_data"
    },
    {
     "data": {
      "application/vnd.jupyter.widget-view+json": {
       "model_id": "4d7f8e91112c462d85094921bc1b41c9",
       "version_major": 2,
       "version_minor": 0
      },
      "text/plain": [
       "Test batches:   0%|          | 0/8 [00:00<?, ?it/s]"
      ]
     },
     "metadata": {},
     "output_type": "display_data"
    },
    {
     "data": {
      "application/vnd.jupyter.widget-view+json": {
       "model_id": "d08712f33a5e408c9718f82300436358",
       "version_major": 2,
       "version_minor": 0
      },
      "text/plain": [
       "Train batches:   0%|          | 0/32 [00:00<?, ?it/s]"
      ]
     },
     "metadata": {},
     "output_type": "display_data"
    },
    {
     "data": {
      "application/vnd.jupyter.widget-view+json": {
       "model_id": "0f2fb644ec4b4f18bf30e47568f51be9",
       "version_major": 2,
       "version_minor": 0
      },
      "text/plain": [
       "Test batches:   0%|          | 0/8 [00:00<?, ?it/s]"
      ]
     },
     "metadata": {},
     "output_type": "display_data"
    },
    {
     "data": {
      "application/vnd.jupyter.widget-view+json": {
       "model_id": "bf73a004f4444899b54a84f37ffb2436",
       "version_major": 2,
       "version_minor": 0
      },
      "text/plain": [
       "Train batches:   0%|          | 0/32 [00:00<?, ?it/s]"
      ]
     },
     "metadata": {},
     "output_type": "display_data"
    },
    {
     "data": {
      "application/vnd.jupyter.widget-view+json": {
       "model_id": "e8db2a71f12c494d90311e1ab714e88e",
       "version_major": 2,
       "version_minor": 0
      },
      "text/plain": [
       "Test batches:   0%|          | 0/8 [00:00<?, ?it/s]"
      ]
     },
     "metadata": {},
     "output_type": "display_data"
    },
    {
     "data": {
      "application/vnd.jupyter.widget-view+json": {
       "model_id": "ce2658f285f54346b3b60462ee18f9af",
       "version_major": 2,
       "version_minor": 0
      },
      "text/plain": [
       "Train batches:   0%|          | 0/32 [00:00<?, ?it/s]"
      ]
     },
     "metadata": {},
     "output_type": "display_data"
    },
    {
     "data": {
      "application/vnd.jupyter.widget-view+json": {
       "model_id": "63fee63a8ab44b4b81df66539dbfcec5",
       "version_major": 2,
       "version_minor": 0
      },
      "text/plain": [
       "Test batches:   0%|          | 0/8 [00:00<?, ?it/s]"
      ]
     },
     "metadata": {},
     "output_type": "display_data"
    },
    {
     "data": {
      "application/vnd.jupyter.widget-view+json": {
       "model_id": "18b4216bea4f433a8443b7dbbab260d1",
       "version_major": 2,
       "version_minor": 0
      },
      "text/plain": [
       "Train batches:   0%|          | 0/32 [00:00<?, ?it/s]"
      ]
     },
     "metadata": {},
     "output_type": "display_data"
    },
    {
     "data": {
      "application/vnd.jupyter.widget-view+json": {
       "model_id": "ececa6273b744170903746f660cf47b1",
       "version_major": 2,
       "version_minor": 0
      },
      "text/plain": [
       "Test batches:   0%|          | 0/8 [00:00<?, ?it/s]"
      ]
     },
     "metadata": {},
     "output_type": "display_data"
    },
    {
     "data": {
      "application/vnd.jupyter.widget-view+json": {
       "model_id": "05b7fed33c464a1299047f2eb08cbe0f",
       "version_major": 2,
       "version_minor": 0
      },
      "text/plain": [
       "Train batches:   0%|          | 0/32 [00:00<?, ?it/s]"
      ]
     },
     "metadata": {},
     "output_type": "display_data"
    },
    {
     "data": {
      "application/vnd.jupyter.widget-view+json": {
       "model_id": "0fd8805fca38417fab9f10cdfc4f4852",
       "version_major": 2,
       "version_minor": 0
      },
      "text/plain": [
       "Test batches:   0%|          | 0/8 [00:00<?, ?it/s]"
      ]
     },
     "metadata": {},
     "output_type": "display_data"
    },
    {
     "data": {
      "application/vnd.jupyter.widget-view+json": {
       "model_id": "5c54f8f5e2ec4c84ab7e07675e9cfb8e",
       "version_major": 2,
       "version_minor": 0
      },
      "text/plain": [
       "Train batches:   0%|          | 0/32 [00:00<?, ?it/s]"
      ]
     },
     "metadata": {},
     "output_type": "display_data"
    },
    {
     "data": {
      "application/vnd.jupyter.widget-view+json": {
       "model_id": "07644e5ebc2e444c9f21d57b499e60ee",
       "version_major": 2,
       "version_minor": 0
      },
      "text/plain": [
       "Test batches:   0%|          | 0/8 [00:00<?, ?it/s]"
      ]
     },
     "metadata": {},
     "output_type": "display_data"
    },
    {
     "data": {
      "application/vnd.jupyter.widget-view+json": {
       "model_id": "cc03986330a849bea59d405215bc67a7",
       "version_major": 2,
       "version_minor": 0
      },
      "text/plain": [
       "Train batches:   0%|          | 0/32 [00:00<?, ?it/s]"
      ]
     },
     "metadata": {},
     "output_type": "display_data"
    },
    {
     "data": {
      "application/vnd.jupyter.widget-view+json": {
       "model_id": "4b795c736a4444a0b3d263f224e90e31",
       "version_major": 2,
       "version_minor": 0
      },
      "text/plain": [
       "Test batches:   0%|          | 0/8 [00:00<?, ?it/s]"
      ]
     },
     "metadata": {},
     "output_type": "display_data"
    },
    {
     "data": {
      "application/vnd.jupyter.widget-view+json": {
       "model_id": "ac89f027f3564b46b3bdf0fb322fb1c5",
       "version_major": 2,
       "version_minor": 0
      },
      "text/plain": [
       "Train batches:   0%|          | 0/32 [00:00<?, ?it/s]"
      ]
     },
     "metadata": {},
     "output_type": "display_data"
    },
    {
     "data": {
      "application/vnd.jupyter.widget-view+json": {
       "model_id": "ad2f25726e4b4d13a407e94f96928c11",
       "version_major": 2,
       "version_minor": 0
      },
      "text/plain": [
       "Test batches:   0%|          | 0/8 [00:00<?, ?it/s]"
      ]
     },
     "metadata": {},
     "output_type": "display_data"
    },
    {
     "data": {
      "application/vnd.jupyter.widget-view+json": {
       "model_id": "49fd7cbbd007456b8ab34517aec1c45c",
       "version_major": 2,
       "version_minor": 0
      },
      "text/plain": [
       "Train batches:   0%|          | 0/32 [00:00<?, ?it/s]"
      ]
     },
     "metadata": {},
     "output_type": "display_data"
    },
    {
     "data": {
      "application/vnd.jupyter.widget-view+json": {
       "model_id": "2a898941fa1f4f20ad3530b0dee0d76c",
       "version_major": 2,
       "version_minor": 0
      },
      "text/plain": [
       "Test batches:   0%|          | 0/8 [00:00<?, ?it/s]"
      ]
     },
     "metadata": {},
     "output_type": "display_data"
    },
    {
     "data": {
      "application/vnd.jupyter.widget-view+json": {
       "model_id": "e1d787e7ee7f4f1ba421f2c70194b77d",
       "version_major": 2,
       "version_minor": 0
      },
      "text/plain": [
       "Train batches:   0%|          | 0/32 [00:00<?, ?it/s]"
      ]
     },
     "metadata": {},
     "output_type": "display_data"
    },
    {
     "data": {
      "application/vnd.jupyter.widget-view+json": {
       "model_id": "63cbf16193154850a6e71168375c12f2",
       "version_major": 2,
       "version_minor": 0
      },
      "text/plain": [
       "Test batches:   0%|          | 0/8 [00:00<?, ?it/s]"
      ]
     },
     "metadata": {},
     "output_type": "display_data"
    },
    {
     "data": {
      "application/vnd.jupyter.widget-view+json": {
       "model_id": "b72ee9350c5447a78b35c5e86f1fbc79",
       "version_major": 2,
       "version_minor": 0
      },
      "text/plain": [
       "Train batches:   0%|          | 0/32 [00:00<?, ?it/s]"
      ]
     },
     "metadata": {},
     "output_type": "display_data"
    },
    {
     "data": {
      "application/vnd.jupyter.widget-view+json": {
       "model_id": "6b3d8744c2044acfbe4cf2113f9c8b8b",
       "version_major": 2,
       "version_minor": 0
      },
      "text/plain": [
       "Test batches:   0%|          | 0/8 [00:00<?, ?it/s]"
      ]
     },
     "metadata": {},
     "output_type": "display_data"
    },
    {
     "data": {
      "application/vnd.jupyter.widget-view+json": {
       "model_id": "464835c1cb2b446fba653e9a77f22897",
       "version_major": 2,
       "version_minor": 0
      },
      "text/plain": [
       "Train batches:   0%|          | 0/32 [00:00<?, ?it/s]"
      ]
     },
     "metadata": {},
     "output_type": "display_data"
    },
    {
     "data": {
      "application/vnd.jupyter.widget-view+json": {
       "model_id": "ad4b3b1fe6104926bf095d15b74482bf",
       "version_major": 2,
       "version_minor": 0
      },
      "text/plain": [
       "Test batches:   0%|          | 0/8 [00:00<?, ?it/s]"
      ]
     },
     "metadata": {},
     "output_type": "display_data"
    }
   ],
   "source": [
    "from misc import train_model\n",
    "\n",
    "res = train_model(\n",
    "    model, \n",
    "    train_dataloader,\n",
    "    val_dataloader,\n",
    "    loss_fn,\n",
    "    optim,\n",
    "    device,\n",
    "    epochs\n",
    ")"
   ]
  },
  {
   "cell_type": "markdown",
   "id": "6cf36826-8d48-4d63-8cd4-687e6f2960db",
   "metadata": {},
   "source": [
    "### Плотим результаты"
   ]
  },
  {
   "cell_type": "code",
   "execution_count": 52,
   "id": "020319eb-4482-4ddf-ae7a-12614a56591b",
   "metadata": {},
   "outputs": [],
   "source": [
    "from matplotlib import pyplot as plt\n",
    "\n",
    "def plot_results(res):\n",
    "    plt.figure(figsize=(12,12))\n",
    "    i = 1\n",
    "    for name in (\"test\", \"train\"):\n",
    "        for metric in (\"acc\", \"loss\"):\n",
    "            plt.subplot(2, 2, i)\n",
    "            plt.xlabel(\"epoch\")\n",
    "            plt.ylabel(f\"{name} {metric}\")\n",
    "            plt.plot(res[name][metric])\n",
    "            i += 1"
   ]
  },
  {
   "cell_type": "code",
   "execution_count": 53,
   "id": "80f0c8ad-3809-4e71-95af-44a51f48c85c",
   "metadata": {},
   "outputs": [
    {
     "data": {
      "image/png": "[encoded data removed]",
      "text/plain": [
       "<Figure size 1200x1200 with 4 Axes>"
      ]
     },
     "metadata": {},
     "output_type": "display_data"
    }
   ],
   "source": [
    "plot_results(res)"
   ]
  },
  {
   "cell_type": "markdown",
   "id": "f5c993fb-8f92-41d8-9ac3-055895acea63",
   "metadata": {},
   "source": [
    "### Fine Tuning\n",
    "Для более слабой модели сильно помогло (80 -> 90), но эта и так хорошо справляется"
   ]
  },
  {
   "cell_type": "code",
   "execution_count": 54,
   "id": "dfb55aea-9563-4d83-b83e-5de3700f3e34",
   "metadata": {},
   "outputs": [],
   "source": [
    "for param in model.parameters():\n",
    "    param.requires_grad = True\n",
    "\n",
    "optim = torch.optim.Adam(params=model.parameters(), lr=1e-5)\n",
    "\n",
    "epochs = 5"
   ]
  },
  {
   "cell_type": "code",
   "execution_count": null,
   "id": "eeffd3de-a308-4b27-a341-83f44cb53c01",
   "metadata": {},
   "outputs": [],
   "source": [
    "res = train_model(\n",
    "    model, \n",
    "    train_dataloader,\n",
    "    val_dataloader,\n",
    "    loss_fn,\n",
    "    optim,\n",
    "    device,\n",
    "    epochs\n",
    ")"
   ]
  },
  {
   "cell_type": "code",
   "execution_count": 38,
   "id": "1931e97a-d47f-4804-bc03-a0a5f0e0684d",
   "metadata": {},
   "outputs": [
    {
     "data": {
      "text/plain": [
       "89.78365384615384"
      ]
     },
     "execution_count": 38,
     "metadata": {},
     "output_type": "execute_result"
    }
   ],
   "source": [
    "res[\"test\"][\"acc\"][-1]"
   ]
  },
  {
   "cell_type": "code",
   "execution_count": 39,
   "id": "8c95f93a-68ac-4b78-a91a-68c69e7ce967",
   "metadata": {},
   "outputs": [
    {
     "data": {
      "image/png": "[encoded data removed]",
      "text/plain": [
       "<Figure size 1200x1200 with 1 Axes>"
      ]
     },
     "metadata": {},
     "output_type": "display_data"
    }
   ],
   "source": [
    "plot_results(res)"
   ]
  },
  {
   "cell_type": "markdown",
   "id": "643e8334-5849-4e72-977f-acb531d323bb",
   "metadata": {},
   "source": [
    "### Сохраняем"
   ]
  },
  {
   "cell_type": "code",
   "execution_count": 57,
   "id": "839e1645-99b3-4fa3-97b8-5a490f84ffb4",
   "metadata": {},
   "outputs": [],
   "source": [
    "torch.save(model.state_dict(), \"model.pt\")"
   ]
  },
  {
   "cell_type": "markdown",
   "id": "ac607703-3d9a-4719-b001-ac194aaaceaa",
   "metadata": {},
   "source": [
    "# Предиктим"
   ]
  },
  {
   "cell_type": "code",
   "execution_count": 4,
   "id": "91ac10dc-e1db-4148-8e63-388f4ef4fb0c",
   "metadata": {},
   "outputs": [
    {
     "data": {
      "text/plain": [
       "<All keys matched successfully>"
      ]
     },
     "execution_count": 4,
     "metadata": {},
     "output_type": "execute_result"
    }
   ],
   "source": [
    "model = timm.create_model(\n",
    "    \"convnext_large.fb_in22k_ft_in1k\",\n",
    "    pretrained=False,\n",
    "    num_classes=14\n",
    ").to(device)\n",
    "\n",
    "model.load_state_dict(torch.load(\"model.pt\"))"
   ]
  },
  {
   "cell_type": "code",
   "execution_count": 6,
   "id": "32e6180b-4673-4b96-a1ab-012f2e68b60a",
   "metadata": {},
   "outputs": [
    {
     "data": {
      "application/vnd.jupyter.widget-view+json": {
       "model_id": "9d16f115220e452e8e8cf4e91b4a157d",
       "version_major": 2,
       "version_minor": 0
      },
      "text/plain": [
       "Predicting:   0%|          | 0/14 [00:00<?, ?it/s]"
      ]
     },
     "metadata": {},
     "output_type": "display_data"
    }
   ],
   "source": [
    "from misc import predict\n",
    "\n",
    "predictions = predict(model, test_dataloader, device)"
   ]
  },
  {
   "cell_type": "code",
   "execution_count": 11,
   "id": "008d6b1d-51fb-4e4a-81ce-5295f4fdac8e",
   "metadata": {},
   "outputs": [
    {
     "data": {
      "text/plain": [
       "417"
      ]
     },
     "execution_count": 11,
     "metadata": {},
     "output_type": "execute_result"
    }
   ],
   "source": [
    "len(predictions)"
   ]
  },
  {
   "cell_type": "code",
   "execution_count": 7,
   "id": "e6bcd279-471b-429f-8738-125cda579d2a",
   "metadata": {},
   "outputs": [],
   "source": [
    "df = pd.DataFrame(predictions, columns=[\"FILE_NAME\", \"TARGET\"])"
   ]
  },
  {
   "cell_type": "code",
   "execution_count": 14,
   "id": "561896bb-c9a6-44bb-a1e0-00b9d6693b12",
   "metadata": {},
   "outputs": [],
   "source": [
    "df[\"num\"] = df[\"FILE_NAME\"].str.extract(r\"(\\d+)\").astype(int)\n",
    "df = df.sort_values(by=\"num\").drop(columns=\"num\")"
   ]
  },
  {
   "cell_type": "code",
   "execution_count": 15,
   "id": "717ab1ca-c699-47e6-879a-7312f5d2a54c",
   "metadata": {},
   "outputs": [
    {
     "data": {
      "text/html": [
       "<div>\n",
       "<style scoped>\n",
       "    .dataframe tbody tr th:only-of-type {\n",
       "        vertical-align: middle;\n",
       "    }\n",
       "\n",
       "    .dataframe tbody tr th {\n",
       "        vertical-align: top;\n",
       "    }\n",
       "\n",
       "    .dataframe thead th {\n",
       "        text-align: right;\n",
       "    }\n",
       "</style>\n",
       "<table border=\"1\" class=\"dataframe\">\n",
       "  <thead>\n",
       "    <tr style=\"text-align: right;\">\n",
       "      <th></th>\n",
       "      <th>FILE_NAME</th>\n",
       "      <th>TARGET</th>\n",
       "    </tr>\n",
       "  </thead>\n",
       "  <tbody>\n",
       "    <tr>\n",
       "      <th>281</th>\n",
       "      <td>0.jpeg</td>\n",
       "      <td>0</td>\n",
       "    </tr>\n",
       "    <tr>\n",
       "      <th>327</th>\n",
       "      <td>1.jpeg</td>\n",
       "      <td>1</td>\n",
       "    </tr>\n",
       "    <tr>\n",
       "      <th>101</th>\n",
       "      <td>2.jpeg</td>\n",
       "      <td>4</td>\n",
       "    </tr>\n",
       "    <tr>\n",
       "      <th>250</th>\n",
       "      <td>3.jpeg</td>\n",
       "      <td>8</td>\n",
       "    </tr>\n",
       "    <tr>\n",
       "      <th>199</th>\n",
       "      <td>4.jpeg</td>\n",
       "      <td>13</td>\n",
       "    </tr>\n",
       "  </tbody>\n",
       "</table>\n",
       "</div>"
      ],
      "text/plain": [
       "    FILE_NAME  TARGET\n",
       "281    0.jpeg       0\n",
       "327    1.jpeg       1\n",
       "101    2.jpeg       4\n",
       "250    3.jpeg       8\n",
       "199    4.jpeg      13"
      ]
     },
     "execution_count": 15,
     "metadata": {},
     "output_type": "execute_result"
    }
   ],
   "source": [
    "df.head()"
   ]
  },
  {
   "cell_type": "code",
   "execution_count": 16,
   "id": "2b1855c4-e554-485b-a0f1-50a6f84f4c71",
   "metadata": {},
   "outputs": [],
   "source": [
    "df.to_csv(\"Mishin_Timofey_submission.csv\", index=False)"
   ]
  },
  {
   "cell_type": "code",
   "execution_count": null,
   "id": "bfb0c966-0a7e-4545-a688-b15d5ed557c4",
   "metadata": {},
   "outputs": [],
   "source": []
  }
 ],
 "metadata": {
  "kernelspec": {
   "display_name": "Python 3 (ipykernel)",
   "language": "python",
   "name": "python3"
  },
  "language_info": {
   "codemirror_mode": {
    "name": "ipython",
    "version": 3
   },
   "file_extension": ".py",
   "mimetype": "text/x-python",
   "name": "python",
   "nbconvert_exporter": "python",
   "pygments_lexer": "ipython3",
   "version": "3.13.5"
  }
 },
 "nbformat": 4,
 "nbformat_minor": 5
}
