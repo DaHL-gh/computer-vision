{
 "cells": [
  {
   "cell_type": "code",
   "execution_count": 40,
   "id": "e0c390c2-9ffb-4270-9360-dd75d5c4ee3e",
   "metadata": {},
   "outputs": [
    {
     "data": {
      "text/plain": [
       "'cuda'"
      ]
     },
     "execution_count": 40,
     "metadata": {},
     "output_type": "execute_result"
    }
   ],
   "source": [
    "import os\n",
    "from typing import final\n",
    "from pathlib import Path\n",
    "from PIL import Image\n",
    "import pandas as pd\n",
    "import timm\n",
    "\n",
    "import torchvision\n",
    "from torchvision import transforms\n",
    "\n",
    "import torch\n",
    "from torch import nn\n",
    "from torch.utils.data import Dataset, DataLoader\n",
    "\n",
    "device = \"cuda\" if torch.cuda.is_available() else \"cpu\"\n",
    "\n",
    "device"
   ]
  },
  {
   "cell_type": "code",
   "execution_count": 41,
   "id": "6cdc4106-564d-41e8-a3da-05f323fdd70f",
   "metadata": {},
   "outputs": [],
   "source": [
    "@final\n",
    "class CustomDataset(Dataset):\n",
    "    def __init__(self, class_to_label_csv: Path, images_dir: Path, has_labels=True, transform=None):\n",
    "        self.class_to_label = pd.read_csv(class_to_label_csv)\n",
    "        self.images_dir = images_dir\n",
    "        self.images = [file_name for file_name in os.listdir(images_dir)]\n",
    "        self.transform = transform if transform else transforms.ToTensor()\n",
    "        self.has_labels = has_labels\n",
    "\n",
    "        self.classes = sorted(self.class_to_label.iloc[:, 0].unique())\n",
    "        self.class_to_idx = {row[\"name\"]: row[\"label\"] for idx, row in self.class_to_label.iterrows()}\n",
    "\n",
    "    def __len__(self):\n",
    "        return len(self.images)\n",
    "\n",
    "    def __getitem__(self, idx):\n",
    "        file_name = self.images[idx]\n",
    "        img_path = os.path.join(self.images_dir, file_name)\n",
    "        image = Image.open(img_path).convert(\"RGB\")\n",
    "        image = self.transform(image)\n",
    "\n",
    "        if self.has_labels:\n",
    "            cls = file_name.split(\"_\")[0]\n",
    "            label = self.class_to_idx[cls]\n",
    "            return image, label\n",
    "        else:\n",
    "            return image, file_name"
   ]
  },
  {
   "cell_type": "code",
   "execution_count": 42,
   "id": "1a74addc-9d74-4d18-b29f-1ecda868e845",
   "metadata": {},
   "outputs": [],
   "source": [
    "BATCH_SIZE = 32\n",
    "\n",
    "train = CustomDataset(\n",
    "    class_to_label_csv=Path(\"./animal/class_names.csv\"), \n",
    "    images_dir=Path(\"./animal/train/\"), \n",
    "    has_labels=True\n",
    ")\n",
    "test = CustomDataset(\n",
    "    class_to_label_csv=Path(\"./animal/class_names.csv\"), \n",
    "    images_dir=Path(\"./animal/test_new/\"), \n",
    "    has_labels=False\n",
    ")\n",
    "\n",
    "train_dataloader = DataLoader(train, BATCH_SIZE, shuffle=True)\n",
    "test_dataloader = DataLoader(test, BATCH_SIZE, shuffle=False)"
   ]
  },
  {
   "cell_type": "code",
   "execution_count": 43,
   "id": "3f5d844c-433f-4144-99fa-eda03e7da04b",
   "metadata": {},
   "outputs": [],
   "source": [
    "model = timm.create_model(\n",
    "    \"tf_efficientnetv2_s.in21k\", # efficientNet imNet21k\n",
    "    pretrained=True,\n",
    "    num_classes=14\n",
    ")"
   ]
  },
  {
   "cell_type": "code",
   "execution_count": 44,
   "id": "4a6025c6-2f05-4faf-863a-df50269f3cb0",
   "metadata": {},
   "outputs": [
    {
     "data": {
      "text/plain": [
       "Linear(in_features=1280, out_features=14, bias=True)"
      ]
     },
     "execution_count": 44,
     "metadata": {},
     "output_type": "execute_result"
    }
   ],
   "source": [
    "model.classifier"
   ]
  },
  {
   "cell_type": "code",
   "execution_count": 45,
   "id": "1c7f2901-c34a-4192-9d86-9124796bb7cb",
   "metadata": {},
   "outputs": [],
   "source": [
    "for param in model.parameters():\n",
    "    param.requires_grad = False\n",
    "\n",
    "for param in model.classifier.parameters():\n",
    "    param.requires_grad = True"
   ]
  },
  {
   "cell_type": "code",
   "execution_count": 46,
   "id": "c1e74782-51d8-407d-b95e-957a37d2b9f0",
   "metadata": {},
   "outputs": [],
   "source": [
    "loss_fn = torch.nn.CrossEntropyLoss()\n",
    "\n",
    "optim = torch.optim.Adam(params=model.parameters(), lr=1e-3)\n",
    "\n",
    "epochs = 10"
   ]
  },
  {
   "cell_type": "code",
   "execution_count": 47,
   "id": "9b24b377-daec-4789-8bea-d311d138f63c",
   "metadata": {},
   "outputs": [
    {
     "data": {
      "application/vnd.jupyter.widget-view+json": {
       "model_id": "8a9d16fa4cc14f35a2c5fc5866b4c363",
       "version_major": 2,
       "version_minor": 0
      },
      "text/plain": [
       "  0%|          | 0/10 [00:00<?, ?it/s]"
      ]
     },
     "metadata": {},
     "output_type": "display_data"
    },
    {
     "ename": "AttributeError",
     "evalue": "'tuple' object has no attribute 'to'",
     "output_type": "error",
     "traceback": [
      "\u001b[31m---------------------------------------------------------------------------\u001b[39m",
      "\u001b[31mAttributeError\u001b[39m                            Traceback (most recent call last)",
      "\u001b[36mCell\u001b[39m\u001b[36m \u001b[39m\u001b[32mIn[47]\u001b[39m\u001b[32m, line 3\u001b[39m\n\u001b[32m      1\u001b[39m \u001b[38;5;28;01mfrom\u001b[39;00m\u001b[38;5;250m \u001b[39m\u001b[34;01mmisc\u001b[39;00m\u001b[38;5;250m \u001b[39m\u001b[38;5;28;01mimport\u001b[39;00m train_model\n\u001b[32m----> \u001b[39m\u001b[32m3\u001b[39m res = \u001b[43mtrain_model\u001b[49m\u001b[43m(\u001b[49m\n\u001b[32m      4\u001b[39m \u001b[43m    \u001b[49m\u001b[43mmodel\u001b[49m\u001b[43m,\u001b[49m\u001b[43m \u001b[49m\n\u001b[32m      5\u001b[39m \u001b[43m    \u001b[49m\u001b[43mtrain_dataloader\u001b[49m\u001b[43m,\u001b[49m\n\u001b[32m      6\u001b[39m \u001b[43m    \u001b[49m\u001b[43mtest_dataloader\u001b[49m\u001b[43m,\u001b[49m\n\u001b[32m      7\u001b[39m \u001b[43m    \u001b[49m\u001b[43mloss_fn\u001b[49m\u001b[43m,\u001b[49m\n\u001b[32m      8\u001b[39m \u001b[43m    \u001b[49m\u001b[43moptim\u001b[49m\u001b[43m,\u001b[49m\n\u001b[32m      9\u001b[39m \u001b[43m    \u001b[49m\u001b[43mdevice\u001b[49m\u001b[43m,\u001b[49m\n\u001b[32m     10\u001b[39m \u001b[43m    \u001b[49m\u001b[43mepochs\u001b[49m\n\u001b[32m     11\u001b[39m \u001b[43m)\u001b[49m\n",
      "\u001b[36mFile \u001b[39m\u001b[32m~/projects/python/computer-vision/lab2/misc.py:91\u001b[39m, in \u001b[36mtrain_model\u001b[39m\u001b[34m(model, train_dataloader, test_dataloader, loss_fn, optim, device, epochs)\u001b[39m\n\u001b[32m     88\u001b[39m     results[\u001b[33m\"\u001b[39m\u001b[33mtrain\u001b[39m\u001b[33m\"\u001b[39m][name].append(num)\n\u001b[32m     90\u001b[39m \u001b[38;5;66;03m# TEST\u001b[39;00m\n\u001b[32m---> \u001b[39m\u001b[32m91\u001b[39m res = \u001b[43mtest_step\u001b[49m\u001b[43m(\u001b[49m\u001b[43mmodel\u001b[49m\u001b[43m,\u001b[49m\u001b[43m \u001b[49m\u001b[43mtest_dataloader\u001b[49m\u001b[43m,\u001b[49m\u001b[43m \u001b[49m\u001b[43mloss_fn\u001b[49m\u001b[43m,\u001b[49m\u001b[43m \u001b[49m\u001b[43mdevice\u001b[49m\u001b[43m)\u001b[49m\n\u001b[32m     93\u001b[39m \u001b[38;5;28;01mfor\u001b[39;00m name, num \u001b[38;5;129;01min\u001b[39;00m res.items():\n\u001b[32m     94\u001b[39m     results[\u001b[33m\"\u001b[39m\u001b[33mtest\u001b[39m\u001b[33m\"\u001b[39m][name].append(num)\n",
      "\u001b[36mFile \u001b[39m\u001b[32m~/projects/python/computer-vision/lab2/misc.py:56\u001b[39m, in \u001b[36mtest_step\u001b[39m\u001b[34m(model, dataloader, loss_fn, device)\u001b[39m\n\u001b[32m     54\u001b[39m \u001b[38;5;28;01mwith\u001b[39;00m torch.inference_mode():\n\u001b[32m     55\u001b[39m     \u001b[38;5;28;01mfor\u001b[39;00m X, y \u001b[38;5;129;01min\u001b[39;00m dataloader:\n\u001b[32m---> \u001b[39m\u001b[32m56\u001b[39m         X, y = X.to(device), \u001b[43my\u001b[49m\u001b[43m.\u001b[49m\u001b[43mto\u001b[49m(device)\n\u001b[32m     58\u001b[39m         y_pred = model(X)\n\u001b[32m     60\u001b[39m         test_loss += loss_fn(y_pred, y).item()\n",
      "\u001b[31mAttributeError\u001b[39m: 'tuple' object has no attribute 'to'"
     ]
    }
   ],
   "source": [
    "from misc import train_model\n",
    "\n",
    "res = train_model(\n",
    "    model, \n",
    "    train_dataloader,\n",
    "    test_dataloader,\n",
    "    loss_fn,\n",
    "    optim,\n",
    "    device,\n",
    "    epochs\n",
    ")"
   ]
  },
  {
   "cell_type": "code",
   "execution_count": null,
   "id": "d268560c-5eb8-4e3a-b9d9-64ef96b2e463",
   "metadata": {},
   "outputs": [],
   "source": []
  }
 ],
 "metadata": {
  "kernelspec": {
   "display_name": "Python 3 (ipykernel)",
   "language": "python",
   "name": "python3"
  },
  "language_info": {
   "codemirror_mode": {
    "name": "ipython",
    "version": 3
   },
   "file_extension": ".py",
   "mimetype": "text/x-python",
   "name": "python",
   "nbconvert_exporter": "python",
   "pygments_lexer": "ipython3",
   "version": "3.13.5"
  }
 },
 "nbformat": 4,
 "nbformat_minor": 5
}
